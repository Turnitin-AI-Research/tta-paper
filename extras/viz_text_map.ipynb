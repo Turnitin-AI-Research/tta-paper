version https://git-lfs.github.com/spec/v1
oid sha256:c558edd4dc230dfaab038c57c1f3cb7fedce07fb08100cf48e92be94e0024384
size 218441
