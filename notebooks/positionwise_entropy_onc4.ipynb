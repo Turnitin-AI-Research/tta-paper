version https://git-lfs.github.com/spec/v1
oid sha256:101011fc715d0ac26a4172808465b8e9fcc5bab642672c30bb42c37feec84149
size 3911198
