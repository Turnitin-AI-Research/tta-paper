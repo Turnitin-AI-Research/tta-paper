version https://git-lfs.github.com/spec/v1
oid sha256:680f97dd0b3da84eae5a3e2f06fecc7559af589eb452d36d78ac18a24638286e
size 3911649
