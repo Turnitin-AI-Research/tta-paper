version https://git-lfs.github.com/spec/v1
oid sha256:930f3d7eb97cc8e6f9dcc8d723e07d80c206ca2b4ea8341c5443ef807779901e
size 1150977
