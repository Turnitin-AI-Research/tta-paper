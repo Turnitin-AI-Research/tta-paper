version https://git-lfs.github.com/spec/v1
oid sha256:db2aeff7036f630074114afd80632b265356d7a2c8e04c8ddb153df5bd1550f2
size 28243
