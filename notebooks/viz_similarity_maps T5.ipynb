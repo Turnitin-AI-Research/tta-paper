version https://git-lfs.github.com/spec/v1
oid sha256:70bb22b0083527e7d6581dec73ae4aae7c723a030b8c3e039023ad96cdd54e2b
size 1938908
