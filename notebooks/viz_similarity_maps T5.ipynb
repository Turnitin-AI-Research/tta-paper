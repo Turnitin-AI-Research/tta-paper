version https://git-lfs.github.com/spec/v1
oid sha256:b987cf314435736691a5cf6500501f1b930dfdcd29a8fa30adb3fc2b96dac98d
size 1939531
