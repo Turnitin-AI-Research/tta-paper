version https://git-lfs.github.com/spec/v1
oid sha256:844f7b9c7d38705efdb754f58d7d46c405b390e48138cacd7b582d40dc74995c
size 26640
