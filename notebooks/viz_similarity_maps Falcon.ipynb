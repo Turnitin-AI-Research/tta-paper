version https://git-lfs.github.com/spec/v1
oid sha256:10a30f744618b9e7b4f0558e55392fa6a281152b70a7fad26845f86f5599d6b1
size 5573692
