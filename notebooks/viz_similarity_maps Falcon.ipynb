version https://git-lfs.github.com/spec/v1
oid sha256:b77651d905f7dd4b996085a752abdaf7a678ed88f667ce4ec8c18649926875b1
size 5543328
