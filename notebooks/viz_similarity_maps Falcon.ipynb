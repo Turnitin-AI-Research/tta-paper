version https://git-lfs.github.com/spec/v1
oid sha256:9064cb1db2477098e77fafed39100c2bc80a108fb991b60718b80d93e8c2b1a0
size 1449581
