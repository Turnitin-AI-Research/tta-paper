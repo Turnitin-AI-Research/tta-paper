version https://git-lfs.github.com/spec/v1
oid sha256:e33d6af67329b5f3754e7b64138480fb97f905131d8767dbbd5be186052b25e7
size 5573221
