version https://git-lfs.github.com/spec/v1
oid sha256:89d5ad10d03dcd4fcbc9d0739e78702adb08af6998237501307894045fbd40e9
size 3894491
