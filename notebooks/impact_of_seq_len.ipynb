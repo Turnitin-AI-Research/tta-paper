version https://git-lfs.github.com/spec/v1
oid sha256:0acfb213910634b5a09cf4138e3fdcc35c86ac8492dd54db0b97e41c01fccb46
size 22228
