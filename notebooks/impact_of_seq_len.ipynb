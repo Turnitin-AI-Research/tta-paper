version https://git-lfs.github.com/spec/v1
oid sha256:d5280f922a683e02e7d726d91a10d0e80ac18ddafcc5328224f052eded84346b
size 3725497
