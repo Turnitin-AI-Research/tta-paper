version https://git-lfs.github.com/spec/v1
oid sha256:8e28b3f1da6ce2cec7f90022636a08e43775c663519363b22486190e39af1905
size 172816
